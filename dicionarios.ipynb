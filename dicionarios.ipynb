{
 "cells": [
  {
   "cell_type": "markdown",
   "metadata": {},
   "source": [
    "## Criação de dicionário"
   ]
  },
  {
   "cell_type": "code",
   "execution_count": 117,
   "metadata": {},
   "outputs": [],
   "source": [
    "# Cria um dicionário vazio\n",
    "meu_dicionario = {}\n",
    "\n",
    "# Criando um dicionário com dados\n",
    "pessoa = {\n",
    "    \"nome\": \"João\",\n",
    "    \"idade\": 30,\n",
    "    \"cidade\": \"São Paulo\"\n",
    "}"
   ]
  },
  {
   "cell_type": "markdown",
   "metadata": {},
   "source": [
    "## Acesso a elementos"
   ]
  },
  {
   "cell_type": "code",
   "execution_count": 162,
   "metadata": {},
   "outputs": [
    {
     "name": "stdout",
     "output_type": "stream",
     "text": [
      "João\n",
      "30\n",
      "São Paulo\n"
     ]
    }
   ],
   "source": [
    "# Acessando direto\n",
    "nome = pessoa[\"nome\"]  \n",
    "idade = pessoa[\"idade\"] \n",
    "cidade = pessoa[\"cidade\"]\n",
    "\n",
    "print(nome)\n",
    "print(idade)\n",
    "print(cidade)"
   ]
  },
  {
   "cell_type": "code",
   "execution_count": 121,
   "metadata": {},
   "outputs": [
    {
     "name": "stdout",
     "output_type": "stream",
     "text": [
      "João\n",
      "Não informado\n"
     ]
    }
   ],
   "source": [
    "# O método get() é uma alternativa mais segura para acessar valores,\n",
    "# pois permite especificar um valor padrão caso a chave não exista\n",
    "print(pessoa.get(\"nome\"))\n",
    "print(pessoa.get(\"estado\", \"Não informado\"))"
   ]
  },
  {
   "cell_type": "code",
   "execution_count": 122,
   "metadata": {},
   "outputs": [
    {
     "name": "stdout",
     "output_type": "stream",
     "text": [
      "A idade é: 30\n"
     ]
    }
   ],
   "source": [
    "# Verificando se a chave existe\n",
    "if \"idade\" in pessoa:\n",
    "    print(f\"A idade é: {pessoa['idade']}\")\n",
    "else:\n",
    "    print(\"Idade não informada.\")"
   ]
  },
  {
   "cell_type": "code",
   "execution_count": 123,
   "metadata": {},
   "outputs": [
    {
     "name": "stdout",
     "output_type": "stream",
     "text": [
      "nome: João\n",
      "idade: 30\n",
      "cidade: São Paulo\n"
     ]
    }
   ],
   "source": [
    "# Loop para acessar todos os elementos\n",
    "for i in pessoa:\n",
    "    print(f\"{i}: {pessoa[i]}\")"
   ]
  },
  {
   "cell_type": "markdown",
   "metadata": {},
   "source": [
    "## Métodos de dicionário"
   ]
  },
  {
   "cell_type": "code",
   "execution_count": 160,
   "metadata": {},
   "outputs": [
    {
     "data": {
      "text/plain": [
       "dict_keys(['nome', 'idade', 'cidade'])"
      ]
     },
     "execution_count": 160,
     "metadata": {},
     "output_type": "execute_result"
    }
   ],
   "source": [
    "# Retorna uma visão (view) das chaves do dicionário.\n",
    "pessoa.keys()"
   ]
  },
  {
   "cell_type": "code",
   "execution_count": 150,
   "metadata": {},
   "outputs": [
    {
     "data": {
      "text/plain": [
       "dict_values(['João', 30, 'São Paulo'])"
      ]
     },
     "execution_count": 150,
     "metadata": {},
     "output_type": "execute_result"
    }
   ],
   "source": [
    "# Retorna uma visão (view) dos valores do dicionário.\n",
    "pessoa = {\n",
    "    \"nome\": \"João\",\n",
    "    \"idade\": 30,\n",
    "    \"cidade\": \"São Paulo\"\n",
    "}\n",
    "\n",
    "pessoa.values()"
   ]
  },
  {
   "cell_type": "code",
   "execution_count": 151,
   "metadata": {},
   "outputs": [
    {
     "name": "stdout",
     "output_type": "stream",
     "text": [
      "{'nome': 'João', 'idade': 31, 'cidade': 'Belo Horizonte'}\n"
     ]
    }
   ],
   "source": [
    "# Atualiza o dicionário com pares chave-valor de outro dicionário ou de um iterable.\n",
    "pessoa = {\n",
    "    \"nome\": \"João\",\n",
    "    \"idade\": 30,\n",
    "    \"cidade\": \"São Paulo\"\n",
    "}\n",
    "\n",
    "pessoa.update({\"cidade\": \"Belo Horizonte\", \"idade\": 31})\n",
    "print(pessoa)"
   ]
  },
  {
   "cell_type": "code",
   "execution_count": 152,
   "metadata": {},
   "outputs": [
    {
     "data": {
      "text/plain": [
       "30"
      ]
     },
     "execution_count": 152,
     "metadata": {},
     "output_type": "execute_result"
    }
   ],
   "source": [
    "# Remove uma chave do dicionário e retorna o valor associado a ela.\n",
    "# Se a chave não existir, gera um erro, a menos que um valor padrão seja fornecido.\n",
    "pessoa = {\n",
    "    \"nome\": \"João\",\n",
    "    \"idade\": 30,\n",
    "    \"cidade\": \"São Paulo\"\n",
    "}\n",
    "\n",
    "pessoa.pop(\"idade\")"
   ]
  },
  {
   "cell_type": "code",
   "execution_count": 153,
   "metadata": {},
   "outputs": [
    {
     "data": {
      "text/plain": [
       "('cidade', 'São Paulo')"
      ]
     },
     "execution_count": 153,
     "metadata": {},
     "output_type": "execute_result"
    }
   ],
   "source": [
    "# Remove e retorna um par chave-valor do dicionário. Em Python 3.7+, isso remove o último item adicionado.\n",
    "pessoa = {\n",
    "    \"nome\": \"João\",\n",
    "    \"idade\": 30,\n",
    "    \"cidade\": \"São Paulo\"\n",
    "}\n",
    "\n",
    "pessoa.popitem()"
   ]
  },
  {
   "cell_type": "code",
   "execution_count": 155,
   "metadata": {},
   "outputs": [
    {
     "name": "stdout",
     "output_type": "stream",
     "text": [
      "{}\n"
     ]
    }
   ],
   "source": [
    "# Remove todos os itens do dicionário\n",
    "pessoa = {\n",
    "    \"nome\": \"João\",\n",
    "    \"idade\": 30,\n",
    "    \"cidade\": \"São Paulo\"\n",
    "}\n",
    "\n",
    "pessoa.clear()\n",
    "print(pessoa)"
   ]
  },
  {
   "cell_type": "code",
   "execution_count": 159,
   "metadata": {},
   "outputs": [
    {
     "data": {
      "text/plain": [
       "{'nome': 'João', 'idade': 30, 'cidade': 'São Paulo'}"
      ]
     },
     "execution_count": 159,
     "metadata": {},
     "output_type": "execute_result"
    }
   ],
   "source": [
    "# Retorna uma cópia superficial do dicionário\n",
    "pessoa = {\n",
    "    \"nome\": \"João\",\n",
    "    \"idade\": 30,\n",
    "    \"cidade\": \"São Paulo\"\n",
    "}\n",
    "\n",
    "pessoa.copy()"
   ]
  }
 ],
 "metadata": {
  "kernelspec": {
   "display_name": "Python 3",
   "language": "python",
   "name": "python3"
  },
  "language_info": {
   "codemirror_mode": {
    "name": "ipython",
    "version": 3
   },
   "file_extension": ".py",
   "mimetype": "text/x-python",
   "name": "python",
   "nbconvert_exporter": "python",
   "pygments_lexer": "ipython3",
   "version": "3.11.9"
  }
 },
 "nbformat": 4,
 "nbformat_minor": 2
}
