{
 "cells": [
  {
   "cell_type": "markdown",
   "metadata": {},
   "source": [
    "Criação de dicionário"
   ]
  },
  {
   "cell_type": "code",
   "execution_count": null,
   "metadata": {},
   "outputs": [],
   "source": [
    "# Cria um dicionário vazio\n",
    "meu_dicionario = {}\n",
    "\n",
    "# Criando um dicionário com dados\n",
    "pessoa = {\n",
    "    \"nome\": \"João\",\n",
    "    \"idade\": 30,\n",
    "    \"cidade\": \"São Paulo\"\n",
    "}\n",
    "\n",
    "pessoa.get(\"nome\")"
   ]
  },
  {
   "cell_type": "markdown",
   "metadata": {},
   "source": [
    "Acesso a elementos"
   ]
  },
  {
   "cell_type": "code",
   "execution_count": null,
   "metadata": {},
   "outputs": [],
   "source": [
    "# Acessando direto\n",
    "nome = pessoa[\"nome\"]  \n",
    "idade = pessoa[\"idade\"] \n",
    "cidade = pessoa[\"cidade\"]\n",
    "\n",
    "# O método get() é uma alternativa mais segura para acessar valores,\n",
    "# pois permite especificar um valor padrão caso a chave não exista\n",
    "pessoa.get(\"nome\")\n",
    "pessoa.get(\"estado\", \"Não informado\")\n",
    "\n",
    "# Verificando se a chave existe\n",
    "if \"idade\" in pessoa:\n",
    "    print(f\"A idade é: {pessoa['idade']}\")\n",
    "else:\n",
    "    print(\"Idade não informada.\")\n",
    "\n",
    "# Loop para acessar todos os elementos\n",
    "for i in pessoa:\n",
    "    print(f\"{i}: {pessoa[i]}\")\n",
    "\n",
    "len(pessoa)"
   ]
  },
  {
   "cell_type": "markdown",
   "metadata": {},
   "source": [
    "Métodos de dicionário"
   ]
  },
  {
   "cell_type": "code",
   "execution_count": 113,
   "metadata": {},
   "outputs": [
    {
     "data": {
      "text/plain": [
       "0"
      ]
     },
     "execution_count": 113,
     "metadata": {},
     "output_type": "execute_result"
    }
   ],
   "source": [
    "# Retorna uma visão (view) das chaves do dicionário.\n",
    "pessoa.keys()\n",
    "\n",
    "# Retorna uma visão (view) dos valores do dicionário.\n",
    "pessoa.values()\n",
    "\n",
    "# Atualiza o dicionário com pares chave-valor de outro dicionário ou de um iterable.\n",
    "pessoa.update({\"cidade\": \"São Paulo\", \"idade\": 31})\n",
    "\n",
    "# Remove uma chave do dicionário e retorna o valor associado a ela.\n",
    "# Se a chave não existir, gera um erro, a menos que um valor padrão seja fornecido.\n",
    "# pessoa.pop(\"idade\")\n",
    "\n",
    "# Remove e retorna um par chave-valor do dicionário. Em Python 3.7+, isso remove o último item adicionado.\n",
    "pessoa.popitem()\n",
    "\n",
    "# Remove todos os itens do dicionário\n",
    "pessoa.clear()\n",
    "\n",
    "# Retorna uma cópia superficial do dicionário\n",
    "pessoa.copy()\n"
   ]
  }
 ],
 "metadata": {
  "kernelspec": {
   "display_name": "Python 3",
   "language": "python",
   "name": "python3"
  },
  "language_info": {
   "codemirror_mode": {
    "name": "ipython",
    "version": 3
   },
   "file_extension": ".py",
   "mimetype": "text/x-python",
   "name": "python",
   "nbconvert_exporter": "python",
   "pygments_lexer": "ipython3",
   "version": "3.11.9"
  }
 },
 "nbformat": 4,
 "nbformat_minor": 2
}
