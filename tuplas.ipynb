{
 "cells": [
  {
   "cell_type": "markdown",
   "metadata": {},
   "source": [
    "## Criando uma tupla"
   ]
  },
  {
   "cell_type": "code",
   "execution_count": 11,
   "metadata": {},
   "outputs": [
    {
     "name": "stdout",
     "output_type": "stream",
     "text": [
      "(1, 2, 3, 'quatro', 5.0)\n"
     ]
    }
   ],
   "source": [
    "# Tupla com diferentes tipos de dados\n",
    "minha_tupla = (1, 2, 3, \"quatro\", 5.0)\n",
    "print(minha_tupla)"
   ]
  },
  {
   "cell_type": "markdown",
   "metadata": {},
   "source": [
    "## Acessando elementos da tupla"
   ]
  },
  {
   "cell_type": "code",
   "execution_count": 5,
   "metadata": {},
   "outputs": [
    {
     "name": "stdout",
     "output_type": "stream",
     "text": [
      "1\n",
      "quatro\n"
     ]
    }
   ],
   "source": [
    "# Acessando os elementos da tupla\n",
    "print(minha_tupla[0])\n",
    "print(minha_tupla[3])"
   ]
  },
  {
   "cell_type": "markdown",
   "metadata": {},
   "source": [
    "## Tamanho da tupla"
   ]
  },
  {
   "cell_type": "code",
   "execution_count": 12,
   "metadata": {},
   "outputs": [
    {
     "name": "stdout",
     "output_type": "stream",
     "text": [
      "5\n"
     ]
    }
   ],
   "source": [
    "# Acessando o tamanho da tupla\n",
    "print(len(minha_tupla))"
   ]
  },
  {
   "cell_type": "markdown",
   "metadata": {},
   "source": [
    "## Concatenando e repetindo tuplas"
   ]
  },
  {
   "cell_type": "code",
   "execution_count": 30,
   "metadata": {},
   "outputs": [
    {
     "name": "stdout",
     "output_type": "stream",
     "text": [
      "(1, 2, 3, 'quatro', 5.0, 6, 7, 8)\n",
      "(1, 2, 3, 'quatro', 5.0, 1, 2, 3, 'quatro', 5.0, 1, 2, 3, 'quatro', 5.0)\n"
     ]
    }
   ],
   "source": [
    "# Concatenando duas tuplas\n",
    "minha_tupla2 = (6, 7, 8)\n",
    "tupla_concatenada = minha_tupla + minha_tupla2\n",
    "print(tupla_concatenada)\n",
    "\n",
    "# Repetindo elementos da tupla\n",
    "tupla_repetida = minha_tupla * 3\n",
    "print(tupla_repetida)"
   ]
  },
  {
   "cell_type": "markdown",
   "metadata": {},
   "source": [
    "## Iterando sobre uma tupla"
   ]
  },
  {
   "cell_type": "code",
   "execution_count": 27,
   "metadata": {},
   "outputs": [
    {
     "name": "stdout",
     "output_type": "stream",
     "text": [
      "1\n",
      "2\n",
      "3\n",
      "quatro\n",
      "5.0\n"
     ]
    }
   ],
   "source": [
    "for item in minha_tupla:\n",
    "    print(item)"
   ]
  },
  {
   "cell_type": "markdown",
   "metadata": {},
   "source": [
    "## Iteração com índices"
   ]
  },
  {
   "cell_type": "code",
   "execution_count": 72,
   "metadata": {},
   "outputs": [
    {
     "name": "stdout",
     "output_type": "stream",
     "text": [
      "0 1\n",
      "1 2\n",
      "2 3\n",
      "3 quatro\n",
      "4 5.0\n"
     ]
    }
   ],
   "source": [
    "# Exibindo os índices enquanto itera, usando enumerate()\n",
    "for index, item in enumerate(minha_tupla):\n",
    "    print(index, item)\n"
   ]
  },
  {
   "cell_type": "markdown",
   "metadata": {},
   "source": [
    "## Desempacotamento de tuplas"
   ]
  },
  {
   "cell_type": "code",
   "execution_count": 78,
   "metadata": {},
   "outputs": [
    {
     "name": "stdout",
     "output_type": "stream",
     "text": [
      "1\n",
      "quatro\n"
     ]
    }
   ],
   "source": [
    "# Atribuindo os valores da tupla a variáveis individuais\n",
    "a, b, c, d, e = minha_tupla\n",
    "print(a)\n",
    "print(d)"
   ]
  },
  {
   "cell_type": "markdown",
   "metadata": {},
   "source": [
    "## Contando elementos da tupla"
   ]
  },
  {
   "cell_type": "code",
   "execution_count": 38,
   "metadata": {},
   "outputs": [
    {
     "name": "stdout",
     "output_type": "stream",
     "text": [
      "3\n"
     ]
    }
   ],
   "source": [
    "# Contando quantas vezes um determinado elemento aparece na tupla usando o método .count()\n",
    "minha_tupla3 = (1, 2, 3, 1, 4, 1)\n",
    "print(minha_tupla3.count(1))"
   ]
  },
  {
   "cell_type": "markdown",
   "metadata": {},
   "source": [
    "## Encontrar o índice de um elemento"
   ]
  },
  {
   "cell_type": "code",
   "execution_count": 60,
   "metadata": {},
   "outputs": [
    {
     "name": "stdout",
     "output_type": "stream",
     "text": [
      "2\n"
     ]
    }
   ],
   "source": [
    "# Encontrando a primeira ocorrência de um elemento usando o método .index\n",
    "minha_tupla = (1, 2, 3, \"quatro\", 5.0)\n",
    "print(minha_tupla.index(3))"
   ]
  },
  {
   "cell_type": "markdown",
   "metadata": {},
   "source": [
    "## Tuplas como chaves em dicionários"
   ]
  },
  {
   "cell_type": "code",
   "execution_count": 65,
   "metadata": {},
   "outputs": [
    {
     "name": "stdout",
     "output_type": "stream",
     "text": [
      "valor1\n"
     ]
    }
   ],
   "source": [
    "# Tuplas podem ser usadas como chaves em dicionários, já que são imutáveis\n",
    "dicionario = {(1,2): \"valor1\", (3,4): \"valor2\"}\n",
    "print(dicionario[(1,2)])"
   ]
  },
  {
   "cell_type": "markdown",
   "metadata": {},
   "source": [
    "## Tuplas aninhadas"
   ]
  },
  {
   "cell_type": "code",
   "execution_count": 70,
   "metadata": {},
   "outputs": [
    {
     "name": "stdout",
     "output_type": "stream",
     "text": [
      "(1, 2)\n"
     ]
    }
   ],
   "source": [
    "# Se pode ter tuplas dentro de tuplas\n",
    "tupla_aninhada = ((1, 2), (3, 4))\n",
    "print(tupla_aninhada[0])"
   ]
  },
  {
   "cell_type": "markdown",
   "metadata": {},
   "source": [
    "## Conversão para lista"
   ]
  },
  {
   "cell_type": "code",
   "execution_count": 77,
   "metadata": {},
   "outputs": [
    {
     "name": "stdout",
     "output_type": "stream",
     "text": [
      "[1, 2, 3, 'quatro', 5.0]\n"
     ]
    }
   ],
   "source": [
    "# Convertendo uma tupla para uma lista usando list()\n",
    "lista = list(minha_tupla)\n",
    "print(lista)"
   ]
  }
 ],
 "metadata": {
  "kernelspec": {
   "display_name": "Python 3",
   "language": "python",
   "name": "python3"
  },
  "language_info": {
   "codemirror_mode": {
    "name": "ipython",
    "version": 3
   },
   "file_extension": ".py",
   "mimetype": "text/x-python",
   "name": "python",
   "nbconvert_exporter": "python",
   "pygments_lexer": "ipython3",
   "version": "3.11.9"
  }
 },
 "nbformat": 4,
 "nbformat_minor": 2
}
