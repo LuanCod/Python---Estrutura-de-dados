{
 "cells": [
  {
   "cell_type": "markdown",
   "metadata": {},
   "source": [
    "Criação de listas"
   ]
  },
  {
   "cell_type": "code",
   "execution_count": null,
   "metadata": {},
   "outputs": [],
   "source": [
    "# Lista vazia\n",
    "lista = []\n",
    "\n",
    "# Lista com elementos\n",
    "lista = [1, 2, 3, 4, 5]"
   ]
  },
  {
   "cell_type": "markdown",
   "metadata": {},
   "source": [
    "Acesso a elementos"
   ]
  },
  {
   "cell_type": "code",
   "execution_count": null,
   "metadata": {},
   "outputs": [],
   "source": [
    "# Acessa o primeiro elemento\n",
    "lista[0]\n",
    "\n",
    "# Acessa o último elemento \n",
    "lista[-1]"
   ]
  },
  {
   "cell_type": "markdown",
   "metadata": {},
   "source": [
    "Métodos de listas"
   ]
  },
  {
   "cell_type": "code",
   "execution_count": 63,
   "metadata": {},
   "outputs": [],
   "source": [
    "# Adiciona o número 6 no final da lista\n",
    "lista.append(6)\n",
    "\n",
    "# Adiciona os elementos de iterable ao final da lista\n",
    "lista.extend([7, 8, 9])\n",
    "\n",
    "# Insere 9 na posição 10\n",
    "lista.insert(9, 10)\n",
    "\n",
    "# Remove o primeiro elemento que é igual a 7\n",
    "lista.remove(7)\n",
    "\n",
    "# Remove o elemento na posição 9 (ou o último se a posição não for fornecida)\n",
    "lista.pop(9)\n",
    "\n",
    "# Retorna o índice do primeiro elemento que é igual a 1\n",
    "lista.index(1)\n",
    "\n",
    "# Retorna o número de vezes que o número 2 aparece na lista\n",
    "lista.count(2)\n",
    "\n",
    "# Ordena a lista\n",
    "lista.sort()\n",
    "\n",
    "# Inverte a ordem dos elementos na lista\n",
    "lista.reverse()\n",
    "\n",
    "# Remove todos os elementos da lista\n",
    "lista.clear()\n",
    "\n"
   ]
  },
  {
   "cell_type": "markdown",
   "metadata": {},
   "source": [
    "Funções úteis"
   ]
  },
  {
   "cell_type": "code",
   "execution_count": null,
   "metadata": {},
   "outputs": [],
   "source": [
    "# Retorna o número de elementos na lista\n",
    "len(lista)\n",
    "\n",
    "# Retorna o menor elemento da lista\n",
    "min(lista)\n",
    "\n",
    "# Retorna o maior elemento da lista\n",
    "max(lista)\n",
    "\n",
    "# Retorna a soma dos elementos da lista\n",
    "sum(lista) "
   ]
  }
 ],
 "metadata": {
  "kernelspec": {
   "display_name": "Python 3",
   "language": "python",
   "name": "python3"
  },
  "language_info": {
   "codemirror_mode": {
    "name": "ipython",
    "version": 3
   },
   "file_extension": ".py",
   "mimetype": "text/x-python",
   "name": "python",
   "nbconvert_exporter": "python",
   "pygments_lexer": "ipython3",
   "version": "3.11.9"
  }
 },
 "nbformat": 4,
 "nbformat_minor": 2
}
