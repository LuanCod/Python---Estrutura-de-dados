{
 "cells": [
  {
   "cell_type": "markdown",
   "metadata": {},
   "source": [
    "Criação de conjuntos"
   ]
  },
  {
   "cell_type": "code",
   "execution_count": 33,
   "metadata": {},
   "outputs": [
    {
     "data": {
      "text/plain": [
       "[3, 4, 5, 6]"
      ]
     },
     "execution_count": 34,
     "metadata": {},
     "output_type": "execute_result"
    }
   ],
   "source": [
    "# Usando a função set()\n",
    "meu_conjunto1 = set([3, 4, 5, 6])\n",
    "\n",
    "# Usando chaves\n",
    "meu_conjunto2 = {1, 2, 3, 4}"
   ]
  },
  {
   "cell_type": "markdown",
   "metadata": {},
   "source": [
    "Adicionando e removendo elementos"
   ]
  },
  {
   "cell_type": "code",
   "execution_count": null,
   "metadata": {},
   "outputs": [],
   "source": [
    "# Adiciona o elemento 5\n",
    "meu_conjunto2.add(5)\n",
    "\n",
    "# Remove o elemento 2, porém se o elemento indicado não estiver presente, irá gerar erro\n",
    "meu_conjunto2.remove(2)\n",
    "\n",
    "# Também remove o elemento, porém se o elemento indicado não estiver presente, não gera erro\n",
    "meu_conjunto2.discard(10)"
   ]
  },
  {
   "cell_type": "markdown",
   "metadata": {},
   "source": [
    "Operação: União (union)"
   ]
  },
  {
   "cell_type": "code",
   "execution_count": null,
   "metadata": {},
   "outputs": [],
   "source": [
    "# Combina dois conjuntos, resultando em um conjunto que contém todos os elementos de ambos\n",
    "conjunto_a = {1, 2, 3}\n",
    "conjunto_b = {3, 4, 5}\n",
    "\n",
    "conjunto_a.union(conjunto_b)\n",
    "\n",
    "# Ou usando o operador |\n",
    "conjunto_a | conjunto_b"
   ]
  },
  {
   "cell_type": "markdown",
   "metadata": {},
   "source": [
    "Operação: Interseção (intersection)"
   ]
  },
  {
   "cell_type": "code",
   "execution_count": null,
   "metadata": {},
   "outputs": [],
   "source": [
    "# Retorna um novo conjunto contendo elementos comuns em ambos\n",
    "conjunto_a.intersection(conjunto_b)\n",
    "\n",
    "# Ou usando operador &\n",
    "conjunto_a & conjunto_b"
   ]
  },
  {
   "cell_type": "markdown",
   "metadata": {},
   "source": [
    "Operação: Diferença (difference)"
   ]
  },
  {
   "cell_type": "code",
   "execution_count": null,
   "metadata": {},
   "outputs": [],
   "source": [
    "# Retorna um conjunto com elementos que estão em um conjunto, mas não no outro\n",
    "conjunto_a.difference(conjunto_b)\n",
    "\n",
    "# Ou usando o operador -\n",
    "conjunto_a - conjunto_b"
   ]
  },
  {
   "cell_type": "markdown",
   "metadata": {},
   "source": [
    "Operação: Diferença simétrica (symmetric_difference)"
   ]
  },
  {
   "cell_type": "code",
   "execution_count": null,
   "metadata": {},
   "outputs": [],
   "source": [
    "# Retorna um conjunto com elementos que estão em um dos conjuntos, mas não em ambos\n",
    "conjunto_a.symmetric_difference(conjunto_b)\n",
    "\n",
    "# Ou usando o operador ^\n",
    "conjunto_a ^ conjunto_b"
   ]
  },
  {
   "cell_type": "markdown",
   "metadata": {},
   "source": [
    "Verificação de pertinência"
   ]
  },
  {
   "cell_type": "code",
   "execution_count": null,
   "metadata": {},
   "outputs": [],
   "source": [
    "# Verifica se um elemento pertence a um conjunto usando a palavra-chave in\n",
    "print(3 in conjunto_a)\n",
    "print(6 in conjunto_a)"
   ]
  },
  {
   "cell_type": "markdown",
   "metadata": {},
   "source": [
    "Remoção de duplicatas"
   ]
  },
  {
   "cell_type": "code",
   "execution_count": null,
   "metadata": {},
   "outputs": [],
   "source": [
    "# Se precisar eliminar valores duplicados de uma lista, os conjuntos são ideais, pois armazenam apenas elementos únicos\n",
    "lista_com_duplicatas = [1, 2, 2, 3, 4, 4, 5]\n",
    "conjunto_unico = set(lista_com_duplicatas)"
   ]
  }
 ],
 "metadata": {
  "kernelspec": {
   "display_name": "Python 3",
   "language": "python",
   "name": "python3"
  },
  "language_info": {
   "codemirror_mode": {
    "name": "ipython",
    "version": 3
   },
   "file_extension": ".py",
   "mimetype": "text/x-python",
   "name": "python",
   "nbconvert_exporter": "python",
   "pygments_lexer": "ipython3",
   "version": "3.11.9"
  }
 },
 "nbformat": 4,
 "nbformat_minor": 2
}
